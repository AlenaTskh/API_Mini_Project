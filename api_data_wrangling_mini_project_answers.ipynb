{
 "cells": [
  {
   "cell_type": "markdown",
   "metadata": {},
   "source": [
    "This exercise will require you to pull some data from the Qunadl API. Qaundl is currently the most widely used aggregator of financial market data."
   ]
  },
  {
   "cell_type": "markdown",
   "metadata": {},
   "source": [
    "As a first step, you will need to register a free account on the http://www.quandl.com website."
   ]
  },
  {
   "cell_type": "markdown",
   "metadata": {},
   "source": [
    "After you register, you will be provided with a unique API key, that you should store:"
   ]
  },
  {
   "cell_type": "code",
   "execution_count": 1,
   "metadata": {},
   "outputs": [],
   "source": [
    "# Store the API key as a string - according to PEP8, constants are always named in all upper case\n",
    "API_KEY = ''"
   ]
  },
  {
   "cell_type": "markdown",
   "metadata": {},
   "source": [
    "Qaundl has a large number of data sources, but, unfortunately, most of them require a Premium subscription. Still, there are also a good number of free datasets."
   ]
  },
  {
   "cell_type": "markdown",
   "metadata": {},
   "source": [
    "For this mini project, we will focus on equities data from the Frankfurt Stock Exhange (FSE), which is available for free. We'll try and analyze the stock prices of a company called Carl Zeiss Meditec, which manufactures tools for eye examinations, as well as medical lasers for laser eye surgery: https://www.zeiss.com/meditec/int/home.html. The company is listed under the stock ticker AFX_X."
   ]
  },
  {
   "cell_type": "markdown",
   "metadata": {},
   "source": [
    "You can find the detailed Quandl API instructions here: https://docs.quandl.com/docs/time-series"
   ]
  },
  {
   "cell_type": "markdown",
   "metadata": {},
   "source": [
    "While there is a dedicated Python package for connecting to the Quandl API, we would prefer that you use the *requests* package, which can be easily downloaded using *pip* or *conda*. You can find the documentation for the package here: http://docs.python-requests.org/en/master/ "
   ]
  },
  {
   "cell_type": "markdown",
   "metadata": {},
   "source": [
    "Finally, apart from the *requests* package, you are encouraged to not use any third party Python packages, such as *pandas*, and instead focus on what's available in the Python Standard Library (the *collections* module might come in handy: https://pymotw.com/3/collections/ ).\n",
    "Also, since you won't have access to DataFrames, you are encouraged to us Python's native data structures - preferably dictionaries, though some questions can also be answered using lists.\n",
    "You can read more on these data structures here: https://docs.python.org/3/tutorial/datastructures.html"
   ]
  },
  {
   "cell_type": "markdown",
   "metadata": {},
   "source": [
    "Keep in mind that the JSON responses you will be getting from the API map almost one-to-one to Python's dictionaries. Unfortunately, they can be very nested, so make sure you read up on indexing dictionaries in the documentation provided above."
   ]
  },
  {
   "cell_type": "code",
   "execution_count": 2,
   "metadata": {},
   "outputs": [],
   "source": [
    "# First, import the relevant modules\n",
    "import requests\n",
    "import collections\n",
    "import json\n"
   ]
  },
  {
   "cell_type": "code",
   "execution_count": 3,
   "metadata": {},
   "outputs": [],
   "source": [
    "# Now, call the Quandl API and pull out a small sample of the data (only one day) to get a glimpse\n",
    "# into the JSON structure that will be returned\n",
    "sample = requests.get('https://www.quandl.com/api/v3/datasets/FSE/AFX_X.json?rows=1&api_key='+API_KEY)"
   ]
  },
  {
   "cell_type": "code",
   "execution_count": 4,
   "metadata": {},
   "outputs": [
    {
     "data": {
      "text/plain": [
       "{'dataset': {'id': 10095370,\n",
       "  'dataset_code': 'AFX_X',\n",
       "  'database_code': 'FSE',\n",
       "  'name': 'Carl Zeiss Meditec (AFX_X)',\n",
       "  'description': 'Stock Prices for Carl Zeiss Meditec (2019-07-23) from the Frankfurt Stock Exchange.<br><br>Trading System: Xetra<br><br>ISIN: DE0005313704',\n",
       "  'refreshed_at': '2019-08-06T22:19:36.310Z',\n",
       "  'newest_available_date': '2019-08-06',\n",
       "  'oldest_available_date': '2000-06-07',\n",
       "  'column_names': ['Date',\n",
       "   'Open',\n",
       "   'High',\n",
       "   'Low',\n",
       "   'Close',\n",
       "   'Change',\n",
       "   'Traded Volume',\n",
       "   'Turnover',\n",
       "   'Last Price of the Day',\n",
       "   'Daily Traded Units',\n",
       "   'Daily Turnover'],\n",
       "  'frequency': 'daily',\n",
       "  'type': 'Time Series',\n",
       "  'premium': False,\n",
       "  'limit': 1,\n",
       "  'transform': None,\n",
       "  'column_index': None,\n",
       "  'start_date': '2000-06-07',\n",
       "  'end_date': '2019-08-06',\n",
       "  'data': [['2019-08-06',\n",
       "    93.65,\n",
       "    95.15,\n",
       "    93.25,\n",
       "    93.25,\n",
       "    None,\n",
       "    119714.0,\n",
       "    11218618.0,\n",
       "    None,\n",
       "    None,\n",
       "    None]],\n",
       "  'collapse': None,\n",
       "  'order': None,\n",
       "  'database_id': 6129}}"
      ]
     },
     "execution_count": 4,
     "metadata": {},
     "output_type": "execute_result"
    }
   ],
   "source": [
    "# Inspect the JSON structure of the object you created, and take note of how nested it is,\n",
    "# as well as the overall structure\n",
    "sample.json()\n",
    "# it is a nested dictionary under main key 'dataset', then inner keys 'column_names' and 'data'\n",
    "# will be used in answering further questions"
   ]
  },
  {
   "cell_type": "markdown",
   "metadata": {},
   "source": [
    "These are your tasks for this mini project:\n",
    "\n",
    "1. Collect data from the Franfurt Stock Exchange, for the ticker AFX_X, for the whole year 2017 (keep in mind that the date format is YYYY-MM-DD).\n",
    "2. Convert the returned JSON object into a Python dictionary.\n",
    "3. Calculate what the highest and lowest opening prices were for the stock in this period.\n",
    "4. What was the largest change in any one day (based on High and Low price)?\n",
    "5. What was the largest change between any two days (based on Closing Price)?\n",
    "6. What was the average daily trading volume during this year?\n",
    "7. (Optional) What was the median trading volume during this year. (Note: you may need to implement your own function for calculating the median.)"
   ]
  },
  {
   "cell_type": "markdown",
   "metadata": {
    "collapsed": true
   },
   "source": [
    "## Answers\n",
    "### 1.Collect data from the Franfurt Stock Exchange, for the ticker AFX_X, for the whole year 2017 (keep in mind that the date format is YYYY-MM-DD)."
   ]
  },
  {
   "cell_type": "code",
   "execution_count": 5,
   "metadata": {},
   "outputs": [],
   "source": [
    "# this request will be similar to the sample one, just adding start and end dates to it\n",
    "afx_json = requests.get('https://www.quandl.com/api/v3/datasets/FSE/AFX_X.json?start_date=2017-01-01&end_date=2017-12-31&api_key='+API_KEY)"
   ]
  },
  {
   "cell_type": "markdown",
   "metadata": {},
   "source": [
    "### 2. Convert the returned JSON object into a Python dictionary."
   ]
  },
  {
   "cell_type": "code",
   "execution_count": 6,
   "metadata": {},
   "outputs": [
    {
     "name": "stdout",
     "output_type": "stream",
     "text": [
      "<class 'dict'>\n"
     ]
    }
   ],
   "source": [
    "afx_dict = afx_json.json()\n",
    "# confirming that obtained element is dictionary\n",
    "print(type(afx_dict))"
   ]
  },
  {
   "cell_type": "markdown",
   "metadata": {},
   "source": [
    "### 3. Calculate what the highest and lowest opening prices were for the stock in this period.\n",
    "    We see (from the sample) that obtained dictionary has the outer key 'dataset' and two inner keys that will help to answer this question:\n",
    "    - 'column_names' - contains the list of column names\n",
    "    - 'data' - list of lists for each day entry"
   ]
  },
  {
   "cell_type": "code",
   "execution_count": 7,
   "metadata": {},
   "outputs": [],
   "source": [
    "# extracting index for the column 'open' - it will be needed for other columns so will define a function\n",
    "def get_index(dict_name, col_name):\n",
    "    \"\"\" The function returns index of a column name col_name \n",
    "        from the list in nested dictionary dict_name\"\"\"\n",
    "    ind = dict_name['dataset']['column_names'].index(col_name)\n",
    "    return ind\n",
    "open_ind = get_index(afx_dict, 'Open')"
   ]
  },
  {
   "cell_type": "code",
   "execution_count": 8,
   "metadata": {},
   "outputs": [
    {
     "name": "stdout",
     "output_type": "stream",
     "text": [
      "The lowest opening price in 2017 was 34.0\n",
      "The hightest opening price in 2017 was 53.11\n"
     ]
    }
   ],
   "source": [
    "# creating a list of opening prices\n",
    "open_price = [data[open_ind] for data in afx_dict['dataset']['data']]\n",
    "\n",
    "# removing None values\n",
    "open_price = list(filter(None, open_price))\n",
    "\n",
    "# calculating min and max\n",
    "min_open_price = min(open_price)\n",
    "max_open_price = max(open_price)\n",
    "print('The lowest opening price in 2017 was ' + str(min_open_price))\n",
    "print('The hightest opening price in 2017 was ' + str(max_open_price))"
   ]
  },
  {
   "cell_type": "markdown",
   "metadata": {},
   "source": [
    "### 4. What was the largest change in any one day (based on High and Low price)?"
   ]
  },
  {
   "cell_type": "code",
   "execution_count": 9,
   "metadata": {},
   "outputs": [
    {
     "name": "stdout",
     "output_type": "stream",
     "text": [
      "The largest change in one day in 2017 was 2.8100000000000023\n"
     ]
    }
   ],
   "source": [
    "# constracting list of differences between high and low prices\n",
    "high_ind = get_index(afx_dict,'High')\n",
    "low_ind = get_index(afx_dict,'Low')\n",
    "daily_diff = [data[high_ind]-data[low_ind] for data in afx_dict['dataset']['data']]\n",
    "\n",
    "# calculating maximum\n",
    "max_daily_diff = max(daily_diff)\n",
    "print('The largest change in one day in 2017 was '+str(max_daily_diff))"
   ]
  },
  {
   "cell_type": "markdown",
   "metadata": {},
   "source": [
    "### 5. What was the largest change between any two days (based on Closing Price)?"
   ]
  },
  {
   "cell_type": "code",
   "execution_count": 10,
   "metadata": {},
   "outputs": [],
   "source": [
    "# getting data with row-on-row change\n",
    "day_diff_json = requests.get('https://www.quandl.com/api/v3/datasets/FSE/AFX_X.json?start_date=2017-01-01&end_date=2017-12-31&transform=diff&api_key='+API_KEY)\n",
    "day_diff = day_diff_json.json()"
   ]
  },
  {
   "cell_type": "code",
   "execution_count": 11,
   "metadata": {},
   "outputs": [
    {
     "name": "stdout",
     "output_type": "stream",
     "text": [
      "The largest change between any two days in 2017 was 1.72\n"
     ]
    }
   ],
   "source": [
    "# creting list of closing price differences between any two days\n",
    "close_ind = get_index(day_diff,'Close')\n",
    "close_diff = []\n",
    "for row in day_diff['dataset']['data']:\n",
    "    if row[close_ind] is not None:\n",
    "        close_diff.append(row[close_ind])\n",
    "        \n",
    "# calculating maximum change\n",
    "max_close_diff = max(close_diff)\n",
    "print('The largest change between any two days in 2017 was ' + str(max_close_diff))        "
   ]
  },
  {
   "cell_type": "markdown",
   "metadata": {},
   "source": [
    "### 6. What was the average daily trading volume during this year?"
   ]
  },
  {
   "cell_type": "code",
   "execution_count": 12,
   "metadata": {},
   "outputs": [],
   "source": [
    "# requesting time series with cumulative sum transformation \n",
    "# will give total sum for the year in the first list in 'data' sub-key\n",
    "sum_json = requests.get('https://www.quandl.com/api/v3/datasets/FSE/AFX_X.json?start_date=2017-01-01&end_date=2017-12-31&transform=cumul&api_key='+API_KEY)\n",
    "sum_dict = sum_json.json()"
   ]
  },
  {
   "cell_type": "code",
   "execution_count": 13,
   "metadata": {},
   "outputs": [
    {
     "name": "stdout",
     "output_type": "stream",
     "text": [
      "The average daily trading volume in 2017 was 89124.33725490196\n"
     ]
    }
   ],
   "source": [
    "# for average calculation we will need sum over the year and quantity of entries\n",
    "vol_ind = get_index(sum_dict,'Traded Volume')\n",
    "yearly_volume = sum_dict['dataset']['data'][0][vol_ind] \n",
    "days_traded = len(sum_dict['dataset']['data'])\n",
    "\n",
    "# calculating average trading volume\n",
    "avg_volume = yearly_volume / days_traded\n",
    "print('The average daily trading volume in 2017 was '+str(avg_volume))"
   ]
  },
  {
   "cell_type": "markdown",
   "metadata": {},
   "source": [
    "### 7. (Optional) What was the median trading volume during this year. (Note: you may need to implement your own function for calculating the median.)"
   ]
  },
  {
   "cell_type": "code",
   "execution_count": 14,
   "metadata": {},
   "outputs": [],
   "source": [
    "# defining a function for median\n",
    "def get_median(l_med):\n",
    "    \"\"\"The function returns the median of the provided list t\"\"\"\n",
    "    l = sorted(l_med)\n",
    "    if len(l) % 2 == 1:\n",
    "        ans = l[int(len(l)/2)+1]\n",
    "    else:\n",
    "        ans = (l[int(len(l)/2)]+l[int(len(l)/2)+1])/2\n",
    "    return ans"
   ]
  },
  {
   "cell_type": "code",
   "execution_count": 15,
   "metadata": {},
   "outputs": [
    {
     "name": "stdout",
     "output_type": "stream",
     "text": [
      "The median trading volume in 2017 was 76600\n"
     ]
    }
   ],
   "source": [
    "# extracting trading volume column from the very first dictionary afx_dict\n",
    "trading_vol = [row[vol_ind] for row in afx_dict['dataset']['data']]\n",
    "\n",
    "# calculating median using defined function\n",
    "trading_median = int(get_median(trading_vol))\n",
    "print('The median trading volume in 2017 was '+str(trading_median))"
   ]
  }
 ],
 "metadata": {
  "kernelspec": {
   "display_name": "Python 3",
   "language": "python",
   "name": "python3"
  },
  "language_info": {
   "codemirror_mode": {
    "name": "ipython",
    "version": 3
   },
   "file_extension": ".py",
   "mimetype": "text/x-python",
   "name": "python",
   "nbconvert_exporter": "python",
   "pygments_lexer": "ipython3",
   "version": "3.7.3"
  }
 },
 "nbformat": 4,
 "nbformat_minor": 2
}
